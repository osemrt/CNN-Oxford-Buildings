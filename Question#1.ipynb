{
 "cells": [
  {
   "cell_type": "markdown",
   "metadata": {},
   "source": [
    "### QUESTION 1"
   ]
  },
  {
   "cell_type": "markdown",
   "metadata": {},
   "source": [
    "Using the Train and Validation set, design and classify a network with 3 convolutional hidden layers, followed by 2 fully-connected. Show your convolutional neural network configuration on the test set as accuracy and loss."
   ]
  },
  {
   "cell_type": "code",
   "execution_count": 1,
   "metadata": {
    "scrolled": true
   },
   "outputs": [
    {
     "name": "stderr",
     "output_type": "stream",
     "text": [
      "Using TensorFlow backend.\n"
     ]
    }
   ],
   "source": [
    "import os\n",
    "from keras.optimizers import adam\n",
    "from keras.preprocessing.image import ImageDataGenerator\n",
    "\n",
    "from functions import create_model\n",
    "from functions import get_num_files\n",
    "from functions import get_num_subfolders\n",
    "from functions import create_callback\n",
    "from functions import load_last_weigts\n",
    "from functions import plot_accuracy\n",
    "from functions import plot_loss\n",
    "from functions import create_img_generator"
   ]
  },
  {
   "cell_type": "code",
   "execution_count": 2,
   "metadata": {},
   "outputs": [],
   "source": [
    "# Suppress warning and informational messages\n",
    "os.environ['TF_CPP_MIN_LOG_LEVEL'] ='2'"
   ]
  },
  {
   "cell_type": "code",
   "execution_count": 3,
   "metadata": {},
   "outputs": [],
   "source": [
    "# Main code\n",
    "image_width, image_height=256, 256\n",
    "Training_Epochs=50\n",
    "Batch_Size=8\n",
    "input_size = (image_width, image_height)"
   ]
  },
  {
   "cell_type": "code",
   "execution_count": 4,
   "metadata": {},
   "outputs": [],
   "source": [
    "# dataset/\n",
    "#   train/\n",
    "#       category1/(contains all images related to category1)  \n",
    "#       category2/(contains all images related to category2)\n",
    "#       ...\n",
    "#       ...       \n",
    "# \n",
    "#   validation/\n",
    "#       category1/(contains all images related to category1)  \n",
    "#       category2/(contains all images related to category2)\n",
    "#       ...\n",
    "#       ...\n",
    "#       \n",
    "#   test/\n",
    "#       category1/(contains all images related to category1)  \n",
    "#       category2/(contains all images related to category2)\n",
    "#       ...\n",
    "#       ..."
   ]
  },
  {
   "cell_type": "code",
   "execution_count": 5,
   "metadata": {},
   "outputs": [],
   "source": [
    "train_dir = './dataset/train'\n",
    "validate_dir = './dataset/validation'\n",
    "test_dir = './dataset/test'"
   ]
  },
  {
   "cell_type": "code",
   "execution_count": 6,
   "metadata": {},
   "outputs": [],
   "source": [
    "num_classes = get_num_subfolders(train_dir)\n",
    "\n",
    "num_train_samples = get_num_files(train_dir)\n",
    "num_validate_samples = get_num_files(validate_dir)\n",
    "num_test_samples = get_num_files(test_dir)"
   ]
  },
  {
   "cell_type": "code",
   "execution_count": 7,
   "metadata": {},
   "outputs": [],
   "source": [
    "num_epoch = Training_Epochs\n",
    "batch_size = Batch_Size"
   ]
  },
  {
   "cell_type": "code",
   "execution_count": 8,
   "metadata": {},
   "outputs": [],
   "source": [
    "# Defining image generators for training and testing\n",
    "train_image_gen = create_img_generator()\n",
    "validation_image_gen = create_img_generator()"
   ]
  },
  {
   "cell_type": "code",
   "execution_count": 9,
   "metadata": {},
   "outputs": [
    {
     "name": "stdout",
     "output_type": "stream",
     "text": [
      "Found 4075 images belonging to 17 classes.\n",
      "Found 494 images belonging to 17 classes.\n",
      "Found 494 images belonging to 17 classes.\n"
     ]
    }
   ],
   "source": [
    "# Connect the image generator to a folder contains the source images the image generator alters\n",
    "# Training image generator\n",
    "train_generator = train_image_gen.flow_from_directory(\n",
    "    train_dir,\n",
    "    target_size=(image_width, image_width),\n",
    "    batch_size=batch_size,\n",
    "    seed=42 # set seed for reproducability\n",
    "    )\n",
    "\n",
    "\n",
    "# Validation image generator\n",
    "validation_generator = validation_image_gen.flow_from_directory(\n",
    "    validate_dir,\n",
    "    target_size=(image_width, image_height),\n",
    "    batch_size=batch_size,\n",
    "    seed=42 # set seed for reproducability\n",
    "    )\n",
    "\n",
    "\n",
    "# Test image generator\n",
    "test_generator = ImageDataGenerator().flow_from_directory(\n",
    "    test_dir,\n",
    "    target_size=(image_width, image_height),\n",
    "    batch_size=batch_size,\n",
    "    seed=42 # set seed for reproducability\n",
    "    )"
   ]
  },
  {
   "cell_type": "code",
   "execution_count": 10,
   "metadata": {},
   "outputs": [],
   "source": [
    "# Include the epoch in the file name (uses `str.format`)\n",
    "checkpoint_path = \"checkpoints/q1_V5/cp-{epoch:04d}.ckpt\"\n",
    "checkpoint_dir = os.path.dirname(checkpoint_path)"
   ]
  },
  {
   "cell_type": "code",
   "execution_count": 11,
   "metadata": {},
   "outputs": [],
   "source": [
    "# Creating the model\n",
    "classifier=create_model(input_size)"
   ]
  },
  {
   "cell_type": "code",
   "execution_count": 12,
   "metadata": {
    "scrolled": false
   },
   "outputs": [
    {
     "name": "stdout",
     "output_type": "stream",
     "text": [
      "Model: \"sequential_1\"\n",
      "_________________________________________________________________\n",
      "Layer (type)                 Output Shape              Param #   \n",
      "=================================================================\n",
      "conv_0 (Conv2D)              (None, 254, 254, 32)      896       \n",
      "_________________________________________________________________\n",
      "pool_0 (MaxPooling2D)        (None, 127, 127, 32)      0         \n",
      "_________________________________________________________________\n",
      "conv_1 (Conv2D)              (None, 125, 125, 32)      9248      \n",
      "_________________________________________________________________\n",
      "pool_1 (MaxPooling2D)        (None, 62, 62, 32)        0         \n",
      "_________________________________________________________________\n",
      "conv_2 (Conv2D)              (None, 60, 60, 64)        18496     \n",
      "_________________________________________________________________\n",
      "pool_2 (MaxPooling2D)        (None, 30, 30, 64)        0         \n",
      "_________________________________________________________________\n",
      "flate_0 (Flatten)            (None, 57600)             0         \n",
      "_________________________________________________________________\n",
      "dense_0 (Dense)              (None, 1024)              58983424  \n",
      "_________________________________________________________________\n",
      "dense_1 (Dense)              (None, 1024)              1049600   \n",
      "_________________________________________________________________\n",
      "output_layer (Dense)         (None, 17)                17425     \n",
      "=================================================================\n",
      "Total params: 60,079,089\n",
      "Trainable params: 60,079,089\n",
      "Non-trainable params: 0\n",
      "_________________________________________________________________\n",
      "None\n"
     ]
    }
   ],
   "source": [
    "# print model structure diagram\n",
    "print(classifier.summary())"
   ]
  },
  {
   "cell_type": "code",
   "execution_count": 13,
   "metadata": {},
   "outputs": [],
   "source": [
    "# Compiling the CNN\n",
    "classifier.compile(adam(lr=.0001), loss='categorical_crossentropy', metrics=['accuracy'])"
   ]
  },
  {
   "cell_type": "code",
   "execution_count": 14,
   "metadata": {},
   "outputs": [
    {
     "name": "stdout",
     "output_type": "stream",
     "text": [
      "WARNING:tensorflow:`period` argument is deprecated. Please use `save_freq` to specify the frequency in number of samples seen.\n"
     ]
    }
   ],
   "source": [
    "checkpoint_path = \"checkpoints/Q1/cp-{epoch:04d}.ckpt\"\n",
    "cp_callback = create_callback(checkpoint_path, 5)"
   ]
  },
  {
   "cell_type": "code",
   "execution_count": 15,
   "metadata": {
    "scrolled": false
   },
   "outputs": [
    {
     "name": "stdout",
     "output_type": "stream",
     "text": [
      "Epoch 1/50\n",
      "509/509 [==============================] - 92s 181ms/step - loss: 7.2512 - accuracy: 0.2419 - val_loss: 2.5805 - val_accuracy: 0.2520\n",
      "Epoch 2/50\n",
      "509/509 [==============================] - 95s 187ms/step - loss: 2.3775 - accuracy: 0.2845 - val_loss: 2.6267 - val_accuracy: 0.2963\n",
      "Epoch 3/50\n",
      "509/509 [==============================] - 97s 191ms/step - loss: 2.3272 - accuracy: 0.2882 - val_loss: 2.1470 - val_accuracy: 0.2942\n",
      "Epoch 4/50\n",
      "509/509 [==============================] - 96s 189ms/step - loss: 2.3276 - accuracy: 0.2909 - val_loss: 2.8593 - val_accuracy: 0.3066\n",
      "Epoch 5/50\n",
      "509/509 [==============================] - 94s 185ms/step - loss: 2.2886 - accuracy: 0.2948 - val_loss: 2.3254 - val_accuracy: 0.3066\n",
      "\n",
      "Epoch 00005: saving model to checkpoints/Q1/cp-0005.ckpt\n",
      "Epoch 6/50\n",
      "509/509 [==============================] - 99s 194ms/step - loss: 2.2778 - accuracy: 0.2960 - val_loss: 2.1849 - val_accuracy: 0.3066\n",
      "Epoch 7/50\n",
      "509/509 [==============================] - 93s 182ms/step - loss: 2.2361 - accuracy: 0.3137 - val_loss: 2.3941 - val_accuracy: 0.2942\n",
      "Epoch 8/50\n",
      "509/509 [==============================] - 95s 186ms/step - loss: 2.2190 - accuracy: 0.3174 - val_loss: 2.7347 - val_accuracy: 0.3292\n",
      "Epoch 9/50\n",
      "509/509 [==============================] - 94s 185ms/step - loss: 2.2094 - accuracy: 0.3174 - val_loss: 2.2166 - val_accuracy: 0.2737\n",
      "Epoch 10/50\n",
      "509/509 [==============================] - 93s 182ms/step - loss: 2.2093 - accuracy: 0.3113 - val_loss: 1.8690 - val_accuracy: 0.2634\n",
      "\n",
      "Epoch 00010: saving model to checkpoints/Q1/cp-0010.ckpt\n",
      "Epoch 11/50\n",
      "509/509 [==============================] - 108s 211ms/step - loss: 2.1736 - accuracy: 0.3228 - val_loss: 2.2490 - val_accuracy: 0.3230\n",
      "Epoch 12/50\n",
      "509/509 [==============================] - 91s 179ms/step - loss: 2.2002 - accuracy: 0.3236 - val_loss: 2.1013 - val_accuracy: 0.3025\n",
      "Epoch 13/50\n",
      "509/509 [==============================] - 109s 215ms/step - loss: 2.1405 - accuracy: 0.3354 - val_loss: 1.8258 - val_accuracy: 0.3477\n",
      "Epoch 14/50\n",
      "509/509 [==============================] - 94s 184ms/step - loss: 2.1255 - accuracy: 0.3344 - val_loss: 2.3688 - val_accuracy: 0.3354\n",
      "Epoch 15/50\n",
      "509/509 [==============================] - 90s 176ms/step - loss: 2.1105 - accuracy: 0.3401 - val_loss: 1.7893 - val_accuracy: 0.3025\n",
      "\n",
      "Epoch 00015: saving model to checkpoints/Q1/cp-0015.ckpt\n",
      "Epoch 16/50\n",
      "509/509 [==============================] - 90s 177ms/step - loss: 2.0994 - accuracy: 0.3492 - val_loss: 2.6525 - val_accuracy: 0.3292\n",
      "Epoch 17/50\n",
      "509/509 [==============================] - 94s 185ms/step - loss: 2.0947 - accuracy: 0.3479 - val_loss: 2.1478 - val_accuracy: 0.3621\n",
      "Epoch 18/50\n",
      "509/509 [==============================] - 89s 175ms/step - loss: 2.0685 - accuracy: 0.3509 - val_loss: 4.0568 - val_accuracy: 0.3292\n",
      "Epoch 19/50\n",
      "509/509 [==============================] - 90s 177ms/step - loss: 2.0479 - accuracy: 0.3592 - val_loss: 1.8133 - val_accuracy: 0.3416\n",
      "Epoch 20/50\n",
      "509/509 [==============================] - 89s 174ms/step - loss: 2.0136 - accuracy: 0.3703 - val_loss: 2.1926 - val_accuracy: 0.2984\n",
      "\n",
      "Epoch 00020: saving model to checkpoints/Q1/cp-0020.ckpt\n",
      "Epoch 21/50\n",
      "509/509 [==============================] - 87s 171ms/step - loss: 2.0121 - accuracy: 0.3676 - val_loss: 1.6095 - val_accuracy: 0.3683\n",
      "Epoch 22/50\n",
      "509/509 [==============================] - 90s 177ms/step - loss: 1.9783 - accuracy: 0.3762 - val_loss: 1.4619 - val_accuracy: 0.3519\n",
      "Epoch 23/50\n",
      "509/509 [==============================] - 91s 179ms/step - loss: 1.9736 - accuracy: 0.3760 - val_loss: 2.1864 - val_accuracy: 0.3148\n",
      "Epoch 24/50\n",
      "509/509 [==============================] - 88s 173ms/step - loss: 1.9569 - accuracy: 0.3846 - val_loss: 2.9712 - val_accuracy: 0.3704\n",
      "Epoch 25/50\n",
      "509/509 [==============================] - 89s 174ms/step - loss: 1.9216 - accuracy: 0.3944 - val_loss: 2.5321 - val_accuracy: 0.3292\n",
      "\n",
      "Epoch 00025: saving model to checkpoints/Q1/cp-0025.ckpt\n",
      "Epoch 26/50\n",
      "509/509 [==============================] - 87s 171ms/step - loss: 1.8981 - accuracy: 0.4025 - val_loss: 2.2925 - val_accuracy: 0.3560\n",
      "Epoch 27/50\n",
      "509/509 [==============================] - 88s 172ms/step - loss: 1.9021 - accuracy: 0.3927 - val_loss: 3.4687 - val_accuracy: 0.3683\n",
      "Epoch 28/50\n",
      "509/509 [==============================] - 92s 180ms/step - loss: 1.8759 - accuracy: 0.4084 - val_loss: 2.1414 - val_accuracy: 0.3642\n",
      "Epoch 29/50\n",
      "509/509 [==============================] - 91s 178ms/step - loss: 1.8422 - accuracy: 0.4114 - val_loss: 4.0054 - val_accuracy: 0.3539\n",
      "Epoch 30/50\n",
      "509/509 [==============================] - 89s 174ms/step - loss: 1.8214 - accuracy: 0.4128 - val_loss: 2.8657 - val_accuracy: 0.3580\n",
      "\n",
      "Epoch 00030: saving model to checkpoints/Q1/cp-0030.ckpt\n",
      "Epoch 31/50\n",
      "509/509 [==============================] - 94s 185ms/step - loss: 1.8018 - accuracy: 0.4244 - val_loss: 1.7342 - val_accuracy: 0.3765\n",
      "Epoch 32/50\n",
      "509/509 [==============================] - 86s 170ms/step - loss: 1.7670 - accuracy: 0.4423 - val_loss: 2.4647 - val_accuracy: 0.3498\n",
      "Epoch 33/50\n",
      "509/509 [==============================] - 86s 169ms/step - loss: 1.7594 - accuracy: 0.4414 - val_loss: 2.0830 - val_accuracy: 0.3786\n",
      "Epoch 34/50\n",
      "509/509 [==============================] - 90s 177ms/step - loss: 1.7275 - accuracy: 0.4564 - val_loss: 2.1357 - val_accuracy: 0.3909\n",
      "Epoch 35/50\n",
      "509/509 [==============================] - 86s 169ms/step - loss: 1.7169 - accuracy: 0.4598 - val_loss: 1.3481 - val_accuracy: 0.3148\n",
      "\n",
      "Epoch 00035: saving model to checkpoints/Q1/cp-0035.ckpt\n",
      "Epoch 36/50\n",
      "509/509 [==============================] - 90s 176ms/step - loss: 1.6934 - accuracy: 0.4623 - val_loss: 1.6792 - val_accuracy: 0.3786\n",
      "Epoch 37/50\n",
      "509/509 [==============================] - 89s 175ms/step - loss: 1.6467 - accuracy: 0.4748 - val_loss: 1.8462 - val_accuracy: 0.3765\n",
      "Epoch 38/50\n",
      "509/509 [==============================] - 90s 177ms/step - loss: 1.6385 - accuracy: 0.4760 - val_loss: 1.8403 - val_accuracy: 0.3930\n",
      "Epoch 39/50\n",
      "509/509 [==============================] - 90s 176ms/step - loss: 1.6108 - accuracy: 0.4726 - val_loss: 2.5500 - val_accuracy: 0.3477\n",
      "Epoch 40/50\n",
      "509/509 [==============================] - 92s 182ms/step - loss: 1.5846 - accuracy: 0.4952 - val_loss: 2.1692 - val_accuracy: 0.4115\n",
      "\n",
      "Epoch 00040: saving model to checkpoints/Q1/cp-0040.ckpt\n",
      "Epoch 41/50\n",
      "509/509 [==============================] - 90s 176ms/step - loss: 1.5700 - accuracy: 0.4977 - val_loss: 2.1633 - val_accuracy: 0.3992\n",
      "Epoch 42/50\n",
      "509/509 [==============================] - 87s 171ms/step - loss: 1.5249 - accuracy: 0.5149 - val_loss: 2.0064 - val_accuracy: 0.3724\n",
      "Epoch 43/50\n",
      "509/509 [==============================] - 102s 201ms/step - loss: 1.5253 - accuracy: 0.5068 - val_loss: 3.2661 - val_accuracy: 0.3477\n",
      "Epoch 44/50\n",
      "509/509 [==============================] - 116s 229ms/step - loss: 1.5011 - accuracy: 0.5139 - val_loss: 5.4545 - val_accuracy: 0.3909\n",
      "Epoch 45/50\n",
      "509/509 [==============================] - 111s 218ms/step - loss: 1.4900 - accuracy: 0.5203 - val_loss: 1.7468 - val_accuracy: 0.3560\n",
      "\n",
      "Epoch 00045: saving model to checkpoints/Q1/cp-0045.ckpt\n",
      "Epoch 46/50\n",
      "509/509 [==============================] - 104s 204ms/step - loss: 1.4630 - accuracy: 0.5331 - val_loss: 3.2687 - val_accuracy: 0.3642\n",
      "Epoch 47/50\n",
      "509/509 [==============================] - 94s 184ms/step - loss: 1.4364 - accuracy: 0.5252 - val_loss: 1.2952 - val_accuracy: 0.4239\n",
      "Epoch 48/50\n",
      "509/509 [==============================] - 97s 190ms/step - loss: 1.3936 - accuracy: 0.5483 - val_loss: 2.3377 - val_accuracy: 0.3807\n",
      "Epoch 49/50\n",
      "509/509 [==============================] - 95s 186ms/step - loss: 1.3964 - accuracy: 0.5422 - val_loss: 1.8399 - val_accuracy: 0.3992\n",
      "Epoch 50/50\n",
      "509/509 [==============================] - 93s 183ms/step - loss: 1.3252 - accuracy: 0.5591 - val_loss: 3.1435 - val_accuracy: 0.3539\n",
      "\n",
      "Epoch 00050: saving model to checkpoints/Q1/cp-0050.ckpt\n"
     ]
    }
   ],
   "source": [
    "hist = classifier.fit_generator(\n",
    "    train_generator,\n",
    "    epochs=num_epoch,\n",
    "    steps_per_epoch=num_train_samples//batch_size,\n",
    "    validation_data=validation_generator,\n",
    "    validation_steps=num_validate_samples//batch_size,\n",
    "    class_weight='auto',\n",
    "    callbacks=[cp_callback]\n",
    "    )"
   ]
  },
  {
   "cell_type": "code",
   "execution_count": 16,
   "metadata": {},
   "outputs": [
    {
     "data": {
      "image/png": "[encoded data removed]",
      "text/plain": [
       "<Figure size 432x288 with 1 Axes>"
      ]
     },
     "metadata": {
      "needs_background": "light"
     },
     "output_type": "display_data"
    },
    {
     "data": {
      "text/plain": [
       "0"
      ]
     },
     "execution_count": 16,
     "metadata": {},
     "output_type": "execute_result"
    }
   ],
   "source": [
    "# Plot training and validation accuracy\n",
    "plot_accuracy(hist)"
   ]
  },
  {
   "cell_type": "code",
   "execution_count": 17,
   "metadata": {},
   "outputs": [
    {
     "data": {
      "image/png": "[encoded data removed]",
      "text/plain": [
       "<Figure size 432x288 with 1 Axes>"
      ]
     },
     "metadata": {
      "needs_background": "light"
     },
     "output_type": "display_data"
    },
    {
     "data": {
      "text/plain": [
       "0"
      ]
     },
     "execution_count": 17,
     "metadata": {},
     "output_type": "execute_result"
    }
   ],
   "source": [
    "# Plot training and validation loss\n",
    "plot_loss(hist)"
   ]
  },
  {
   "cell_type": "code",
   "execution_count": 18,
   "metadata": {},
   "outputs": [
    {
     "name": "stdout",
     "output_type": "stream",
     "text": [
      "loss: 2.7835261821746826, accuracy: 0.3663967549800873\n"
     ]
    }
   ],
   "source": [
    "# Print test set accuracy and loss values\n",
    "scores = classifier.evaluate_generator(test_generator, num_test_samples/batch_size)\n",
    "print(\"loss: {}, accuracy: {}\".format(scores[0], scores[1]))"
   ]
  }
 ],
 "metadata": {
  "kernelspec": {
   "display_name": "Python 3",
   "language": "python",
   "name": "python3"
  },
  "language_info": {
   "codemirror_mode": {
    "name": "ipython",
    "version": 3
   },
   "file_extension": ".py",
   "mimetype": "text/x-python",
   "name": "python",
   "nbconvert_exporter": "python",
   "pygments_lexer": "ipython3",
   "version": "3.6.9"
  }
 },
 "nbformat": 4,
 "nbformat_minor": 2
}
