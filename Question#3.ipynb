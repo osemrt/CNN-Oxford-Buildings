{
 "cells": [
  {
   "cell_type": "markdown",
   "metadata": {},
   "source": [
    "### QUESTION 3"
   ]
  },
  {
   "cell_type": "markdown",
   "metadata": {},
   "source": [
    "In the first two questions, you were expected to design a new network, train it, and obtain an feature vector for each image based on the weights of the trained network. In this question, you are expected to download the weights of the trained VGG-16 network with the built-in functions of Keras in the Imagenet contest and to get the closest images for the images in your test set using the weights in the first fully-connected layer of the VGG-16 network. "
   ]
  },
  {
   "cell_type": "code",
   "execution_count": 1,
   "metadata": {},
   "outputs": [
    {
     "name": "stderr",
     "output_type": "stream",
     "text": [
      "Using TensorFlow backend.\n"
     ]
    }
   ],
   "source": [
    "import os\n",
    "from keras.models import Model\n",
    "from keras.applications.vgg16 import VGG16\n",
    "from keras.layers import Dense, GlobalAveragePooling2D\n",
    "from keras.preprocessing.image import ImageDataGenerator\n",
    "\n",
    "from functions import get_num_files\n",
    "from functions import get_num_subfolders\n",
    "from functions import create_img_generator_for_VGG16\n",
    "from functions import plot_accuracy\n",
    "from functions import plot_loss"
   ]
  },
  {
   "cell_type": "code",
   "execution_count": 2,
   "metadata": {},
   "outputs": [],
   "source": [
    "# Suppress warning and informational messages\n",
    "os.environ['TF_CPP_MIN_LOG_LEVEL'] ='2'"
   ]
  },
  {
   "cell_type": "code",
   "execution_count": 3,
   "metadata": {},
   "outputs": [],
   "source": [
    "# Main code\n",
    "image_width, image_height=256, 256\n",
    "Training_Epochs=50\n",
    "Batch_Size=32\n",
    "Number_FC_Neurons=512"
   ]
  },
  {
   "cell_type": "code",
   "execution_count": 4,
   "metadata": {},
   "outputs": [],
   "source": [
    "# dataset/\n",
    "#   train/\n",
    "#       category1/(contains all images related to category1)  \n",
    "#       category2/(contains all images related to category2)\n",
    "#       ...\n",
    "#       ...       \n",
    "# \n",
    "#   validation/\n",
    "#       category1/(contains all images related to category1)  \n",
    "#       category2/(contains all images related to category2)\n",
    "#       ...\n",
    "#       ...\n",
    "#       \n",
    "#   test/\n",
    "#       category1/(contains all images related to category1)  \n",
    "#       category2/(contains all images related to category2)\n",
    "#       ...\n",
    "#       ..."
   ]
  },
  {
   "cell_type": "code",
   "execution_count": 5,
   "metadata": {},
   "outputs": [],
   "source": [
    "train_dir = './dataset/train'\n",
    "validate_dir = './dataset/validation'\n",
    "test_dir = './dataset/test'"
   ]
  },
  {
   "cell_type": "code",
   "execution_count": 6,
   "metadata": {},
   "outputs": [],
   "source": [
    "num_epoch = Training_Epochs\n",
    "batch_size = Batch_Size\n",
    "\n",
    "num_classes = get_num_subfolders(train_dir)\n",
    "\n",
    "num_train_samples = get_num_files(train_dir)\n",
    "num_validate_samples = get_num_files(validate_dir)\n",
    "num_test_samples = get_num_files(test_dir)"
   ]
  },
  {
   "cell_type": "code",
   "execution_count": 7,
   "metadata": {},
   "outputs": [],
   "source": [
    "# Defining image generators for training and testing\n",
    "train_image_gen = create_img_generator_for_VGG16()\n",
    "validation_image_gen = create_img_generator_for_VGG16()"
   ]
  },
  {
   "cell_type": "code",
   "execution_count": 8,
   "metadata": {},
   "outputs": [
    {
     "name": "stdout",
     "output_type": "stream",
     "text": [
      "Found 4075 images belonging to 17 classes.\n",
      "Found 494 images belonging to 17 classes.\n",
      "Found 494 images belonging to 17 classes.\n"
     ]
    }
   ],
   "source": [
    "# Training image generator\n",
    "train_generator = train_image_gen.flow_from_directory(\n",
    "    train_dir,\n",
    "    target_size=(image_width, image_width),\n",
    "    batch_size=batch_size,\n",
    "    seed=42 # set seed for reproducability\n",
    "    )\n",
    "\n",
    "# Validation image generator\n",
    "validation_generator = validation_image_gen.flow_from_directory(\n",
    "    validate_dir,\n",
    "    target_size=(image_width, image_height),\n",
    "    batch_size=batch_size,\n",
    "    seed=42 # set seed for reproducability\n",
    "    )\n",
    "\n",
    "# Test image generator\n",
    "test_generator = ImageDataGenerator().flow_from_directory(\n",
    "    test_dir,\n",
    "    target_size=(image_width, image_height),\n",
    "    batch_size=batch_size,\n",
    "    seed=42 # set seed for reproducability\n",
    "    )"
   ]
  },
  {
   "cell_type": "code",
   "execution_count": 9,
   "metadata": {},
   "outputs": [
    {
     "name": "stdout",
     "output_type": "stream",
     "text": [
      "VGG16 base model without last FC loaded\n",
      "Model: \"vgg16\"\n",
      "_________________________________________________________________\n",
      "Layer (type)                 Output Shape              Param #   \n",
      "=================================================================\n",
      "input_1 (InputLayer)         (None, None, None, 3)     0         \n",
      "_________________________________________________________________\n",
      "block1_conv1 (Conv2D)        (None, None, None, 64)    1792      \n",
      "_________________________________________________________________\n",
      "block1_conv2 (Conv2D)        (None, None, None, 64)    36928     \n",
      "_________________________________________________________________\n",
      "block1_pool (MaxPooling2D)   (None, None, None, 64)    0         \n",
      "_________________________________________________________________\n",
      "block2_conv1 (Conv2D)        (None, None, None, 128)   73856     \n",
      "_________________________________________________________________\n",
      "block2_conv2 (Conv2D)        (None, None, None, 128)   147584    \n",
      "_________________________________________________________________\n",
      "block2_pool (MaxPooling2D)   (None, None, None, 128)   0         \n",
      "_________________________________________________________________\n",
      "block3_conv1 (Conv2D)        (None, None, None, 256)   295168    \n",
      "_________________________________________________________________\n",
      "block3_conv2 (Conv2D)        (None, None, None, 256)   590080    \n",
      "_________________________________________________________________\n",
      "block3_conv3 (Conv2D)        (None, None, None, 256)   590080    \n",
      "_________________________________________________________________\n",
      "block3_pool (MaxPooling2D)   (None, None, None, 256)   0         \n",
      "_________________________________________________________________\n",
      "block4_conv1 (Conv2D)        (None, None, None, 512)   1180160   \n",
      "_________________________________________________________________\n",
      "block4_conv2 (Conv2D)        (None, None, None, 512)   2359808   \n",
      "_________________________________________________________________\n",
      "block4_conv3 (Conv2D)        (None, None, None, 512)   2359808   \n",
      "_________________________________________________________________\n",
      "block4_pool (MaxPooling2D)   (None, None, None, 512)   0         \n",
      "_________________________________________________________________\n",
      "block5_conv1 (Conv2D)        (None, None, None, 512)   2359808   \n",
      "_________________________________________________________________\n",
      "block5_conv2 (Conv2D)        (None, None, None, 512)   2359808   \n",
      "_________________________________________________________________\n",
      "block5_conv3 (Conv2D)        (None, None, None, 512)   2359808   \n",
      "_________________________________________________________________\n",
      "block5_pool (MaxPooling2D)   (None, None, None, 512)   0         \n",
      "=================================================================\n",
      "Total params: 14,714,688\n",
      "Trainable params: 14,714,688\n",
      "Non-trainable params: 0\n",
      "_________________________________________________________________\n",
      "None\n"
     ]
    }
   ],
   "source": [
    "# Load the VGG16 model and load it with it's pre-trained weights.\n",
    "VGG16_base_model = VGG16(weights='imagenet', include_top=False) #include_top=False excludes final FC layer\n",
    "\n",
    "print('VGG16 base model without last FC loaded')\n",
    "print(VGG16_base_model.summary())"
   ]
  },
  {
   "cell_type": "code",
   "execution_count": 10,
   "metadata": {},
   "outputs": [
    {
     "name": "stdout",
     "output_type": "stream",
     "text": [
      "Model: \"vgg16\"\n",
      "_________________________________________________________________\n",
      "Layer (type)                 Output Shape              Param #   \n",
      "=================================================================\n",
      "input_1 (InputLayer)         (None, None, None, 3)     0         \n",
      "_________________________________________________________________\n",
      "block1_conv1 (Conv2D)        (None, None, None, 64)    1792      \n",
      "_________________________________________________________________\n",
      "block1_conv2 (Conv2D)        (None, None, None, 64)    36928     \n",
      "_________________________________________________________________\n",
      "block1_pool (MaxPooling2D)   (None, None, None, 64)    0         \n",
      "_________________________________________________________________\n",
      "block2_conv1 (Conv2D)        (None, None, None, 128)   73856     \n",
      "_________________________________________________________________\n",
      "block2_conv2 (Conv2D)        (None, None, None, 128)   147584    \n",
      "_________________________________________________________________\n",
      "block2_pool (MaxPooling2D)   (None, None, None, 128)   0         \n",
      "_________________________________________________________________\n",
      "block3_conv1 (Conv2D)        (None, None, None, 256)   295168    \n",
      "_________________________________________________________________\n",
      "block3_conv2 (Conv2D)        (None, None, None, 256)   590080    \n",
      "_________________________________________________________________\n",
      "block3_conv3 (Conv2D)        (None, None, None, 256)   590080    \n",
      "_________________________________________________________________\n",
      "block3_pool (MaxPooling2D)   (None, None, None, 256)   0         \n",
      "_________________________________________________________________\n",
      "block4_conv1 (Conv2D)        (None, None, None, 512)   1180160   \n",
      "_________________________________________________________________\n",
      "block4_conv2 (Conv2D)        (None, None, None, 512)   2359808   \n",
      "_________________________________________________________________\n",
      "block4_conv3 (Conv2D)        (None, None, None, 512)   2359808   \n",
      "_________________________________________________________________\n",
      "block4_pool (MaxPooling2D)   (None, None, None, 512)   0         \n",
      "_________________________________________________________________\n",
      "block5_conv1 (Conv2D)        (None, None, None, 512)   2359808   \n",
      "_________________________________________________________________\n",
      "block5_conv2 (Conv2D)        (None, None, None, 512)   2359808   \n",
      "_________________________________________________________________\n",
      "block5_conv3 (Conv2D)        (None, None, None, 512)   2359808   \n",
      "_________________________________________________________________\n",
      "block5_pool (MaxPooling2D)   (None, None, None, 512)   0         \n",
      "=================================================================\n",
      "Total params: 14,714,688\n",
      "Trainable params: 0\n",
      "Non-trainable params: 14,714,688\n",
      "_________________________________________________________________\n",
      "None\n"
     ]
    }
   ],
   "source": [
    "# Freeze all layers\n",
    "for layer in VGG16_base_model.layers:\n",
    "    layer.trainable=False\n",
    "\n",
    "print(VGG16_base_model.summary())"
   ]
  },
  {
   "cell_type": "code",
   "execution_count": 11,
   "metadata": {},
   "outputs": [],
   "source": [
    "# Define the layers in the new classification prediction\n",
    "x = VGG16_base_model.output\n",
    "x = GlobalAveragePooling2D()(x)\n",
    "x = Dense(Number_FC_Neurons, activation='relu')(x)      # new FC layer, random init\n",
    "predictions = Dense(num_classes, activation='softmax')(x) # new softmax layer"
   ]
  },
  {
   "cell_type": "code",
   "execution_count": 12,
   "metadata": {},
   "outputs": [],
   "source": [
    "# Define trainable model which links input \n",
    "# from the VGG16 base model to the new classification prediction layer\n",
    "model = Model(inputs=VGG16_base_model.input, outputs=predictions)"
   ]
  },
  {
   "cell_type": "code",
   "execution_count": 13,
   "metadata": {},
   "outputs": [
    {
     "name": "stdout",
     "output_type": "stream",
     "text": [
      "Model: \"model_1\"\n",
      "_________________________________________________________________\n",
      "Layer (type)                 Output Shape              Param #   \n",
      "=================================================================\n",
      "input_1 (InputLayer)         (None, None, None, 3)     0         \n",
      "_________________________________________________________________\n",
      "block1_conv1 (Conv2D)        (None, None, None, 64)    1792      \n",
      "_________________________________________________________________\n",
      "block1_conv2 (Conv2D)        (None, None, None, 64)    36928     \n",
      "_________________________________________________________________\n",
      "block1_pool (MaxPooling2D)   (None, None, None, 64)    0         \n",
      "_________________________________________________________________\n",
      "block2_conv1 (Conv2D)        (None, None, None, 128)   73856     \n",
      "_________________________________________________________________\n",
      "block2_conv2 (Conv2D)        (None, None, None, 128)   147584    \n",
      "_________________________________________________________________\n",
      "block2_pool (MaxPooling2D)   (None, None, None, 128)   0         \n",
      "_________________________________________________________________\n",
      "block3_conv1 (Conv2D)        (None, None, None, 256)   295168    \n",
      "_________________________________________________________________\n",
      "block3_conv2 (Conv2D)        (None, None, None, 256)   590080    \n",
      "_________________________________________________________________\n",
      "block3_conv3 (Conv2D)        (None, None, None, 256)   590080    \n",
      "_________________________________________________________________\n",
      "block3_pool (MaxPooling2D)   (None, None, None, 256)   0         \n",
      "_________________________________________________________________\n",
      "block4_conv1 (Conv2D)        (None, None, None, 512)   1180160   \n",
      "_________________________________________________________________\n",
      "block4_conv2 (Conv2D)        (None, None, None, 512)   2359808   \n",
      "_________________________________________________________________\n",
      "block4_conv3 (Conv2D)        (None, None, None, 512)   2359808   \n",
      "_________________________________________________________________\n",
      "block4_pool (MaxPooling2D)   (None, None, None, 512)   0         \n",
      "_________________________________________________________________\n",
      "block5_conv1 (Conv2D)        (None, None, None, 512)   2359808   \n",
      "_________________________________________________________________\n",
      "block5_conv2 (Conv2D)        (None, None, None, 512)   2359808   \n",
      "_________________________________________________________________\n",
      "block5_conv3 (Conv2D)        (None, None, None, 512)   2359808   \n",
      "_________________________________________________________________\n",
      "block5_pool (MaxPooling2D)   (None, None, None, 512)   0         \n",
      "_________________________________________________________________\n",
      "global_average_pooling2d_1 ( (None, 512)               0         \n",
      "_________________________________________________________________\n",
      "dense_1 (Dense)              (None, 512)               262656    \n",
      "_________________________________________________________________\n",
      "dense_2 (Dense)              (None, 17)                8721      \n",
      "=================================================================\n",
      "Total params: 14,986,065\n",
      "Trainable params: 271,377\n",
      "Non-trainable params: 14,714,688\n",
      "_________________________________________________________________\n",
      "None\n"
     ]
    }
   ],
   "source": [
    "# print model structure diagram\n",
    "print(model.summary())"
   ]
  },
  {
   "cell_type": "code",
   "execution_count": 14,
   "metadata": {},
   "outputs": [
    {
     "name": "stdout",
     "output_type": "stream",
     "text": [
      "\n",
      "Performing Transfer Learning\n"
     ]
    }
   ],
   "source": [
    "# Transfer Learning\n",
    "print(\"\\nPerforming Transfer Learning\")\n",
    "\n",
    "# Compiling the model\n",
    "model.compile(optimizer='adam', loss='categorical_crossentropy', metrics=['accuracy'])    "
   ]
  },
  {
   "cell_type": "code",
   "execution_count": 15,
   "metadata": {
    "scrolled": false
   },
   "outputs": [
    {
     "name": "stdout",
     "output_type": "stream",
     "text": [
      "Epoch 1/50\n",
      "127/127 [==============================] - 107s 841ms/step - loss: 2.7586 - accuracy: 0.3119 - val_loss: 2.0946 - val_accuracy: 0.3625\n",
      "Epoch 2/50\n",
      "127/127 [==============================] - 99s 779ms/step - loss: 1.8464 - accuracy: 0.4291 - val_loss: 2.2957 - val_accuracy: 0.3701\n",
      "Epoch 3/50\n",
      "127/127 [==============================] - 97s 766ms/step - loss: 1.6504 - accuracy: 0.4868 - val_loss: 1.6267 - val_accuracy: 0.4307\n",
      "Epoch 4/50\n",
      "127/127 [==============================] - 92s 727ms/step - loss: 1.4848 - accuracy: 0.5251 - val_loss: 1.8995 - val_accuracy: 0.4113\n",
      "Epoch 5/50\n",
      "127/127 [==============================] - 92s 726ms/step - loss: 1.3568 - accuracy: 0.5620 - val_loss: 1.9158 - val_accuracy: 0.4329\n",
      "Epoch 6/50\n",
      "127/127 [==============================] - 93s 735ms/step - loss: 1.2516 - accuracy: 0.5889 - val_loss: 1.7625 - val_accuracy: 0.4610\n",
      "Epoch 7/50\n",
      "127/127 [==============================] - 90s 708ms/step - loss: 1.1645 - accuracy: 0.6154 - val_loss: 1.8347 - val_accuracy: 0.4242\n",
      "Epoch 8/50\n",
      "127/127 [==============================] - 89s 700ms/step - loss: 1.0881 - accuracy: 0.6379 - val_loss: 1.3438 - val_accuracy: 0.4805\n",
      "Epoch 9/50\n",
      "127/127 [==============================] - 93s 731ms/step - loss: 0.9803 - accuracy: 0.6804 - val_loss: 1.7607 - val_accuracy: 0.4459\n",
      "Epoch 10/50\n",
      "127/127 [==============================] - 88s 693ms/step - loss: 0.9511 - accuracy: 0.6775 - val_loss: 2.5454 - val_accuracy: 0.4502\n",
      "Epoch 11/50\n",
      "127/127 [==============================] - 87s 687ms/step - loss: 0.8837 - accuracy: 0.7032 - val_loss: 1.6272 - val_accuracy: 0.4719\n",
      "Epoch 12/50\n",
      "127/127 [==============================] - 87s 685ms/step - loss: 0.8291 - accuracy: 0.7210 - val_loss: 1.8200 - val_accuracy: 0.4567\n",
      "Epoch 13/50\n",
      "127/127 [==============================] - 91s 720ms/step - loss: 0.7881 - accuracy: 0.7353 - val_loss: 3.0558 - val_accuracy: 0.4935\n",
      "Epoch 14/50\n",
      "127/127 [==============================] - 89s 702ms/step - loss: 0.7357 - accuracy: 0.7470 - val_loss: 2.7375 - val_accuracy: 0.4740\n",
      "Epoch 15/50\n",
      "127/127 [==============================] - 91s 715ms/step - loss: 0.6864 - accuracy: 0.7596 - val_loss: 2.2966 - val_accuracy: 0.4784\n",
      "Epoch 16/50\n",
      "127/127 [==============================] - 97s 761ms/step - loss: 0.6241 - accuracy: 0.7903 - val_loss: 1.6138 - val_accuracy: 0.4481\n",
      "Epoch 17/50\n",
      "127/127 [==============================] - 88s 690ms/step - loss: 0.6483 - accuracy: 0.7774 - val_loss: 1.7976 - val_accuracy: 0.4458\n",
      "Epoch 18/50\n",
      "127/127 [==============================] - 92s 726ms/step - loss: 0.5813 - accuracy: 0.7970 - val_loss: 2.7211 - val_accuracy: 0.4697\n",
      "Epoch 19/50\n",
      "127/127 [==============================] - 91s 716ms/step - loss: 0.5781 - accuracy: 0.8031 - val_loss: 2.5929 - val_accuracy: 0.4913\n",
      "Epoch 20/50\n",
      "127/127 [==============================] - 90s 708ms/step - loss: 0.5532 - accuracy: 0.8063 - val_loss: 2.0538 - val_accuracy: 0.4892\n",
      "Epoch 21/50\n",
      "127/127 [==============================] - 85s 673ms/step - loss: 0.5295 - accuracy: 0.8190 - val_loss: 2.7750 - val_accuracy: 0.4654\n",
      "Epoch 22/50\n",
      "127/127 [==============================] - 85s 672ms/step - loss: 0.5210 - accuracy: 0.8241 - val_loss: 2.5917 - val_accuracy: 0.4935\n",
      "Epoch 23/50\n",
      "127/127 [==============================] - 86s 676ms/step - loss: 0.4797 - accuracy: 0.8462 - val_loss: 2.6369 - val_accuracy: 0.4870\n",
      "Epoch 24/50\n",
      "127/127 [==============================] - 86s 676ms/step - loss: 0.4544 - accuracy: 0.8417 - val_loss: 1.5919 - val_accuracy: 0.5022\n",
      "Epoch 25/50\n",
      "127/127 [==============================] - 84s 665ms/step - loss: 0.4443 - accuracy: 0.8528 - val_loss: 2.5058 - val_accuracy: 0.4610\n",
      "Epoch 26/50\n",
      "127/127 [==============================] - 88s 695ms/step - loss: 0.4135 - accuracy: 0.8580 - val_loss: 1.8119 - val_accuracy: 0.4870\n",
      "Epoch 27/50\n",
      "127/127 [==============================] - 85s 666ms/step - loss: 0.4228 - accuracy: 0.8565 - val_loss: 2.5372 - val_accuracy: 0.4913\n",
      "Epoch 28/50\n",
      "127/127 [==============================] - 83s 657ms/step - loss: 0.3802 - accuracy: 0.8660 - val_loss: 2.2354 - val_accuracy: 0.4870\n",
      "Epoch 29/50\n",
      "127/127 [==============================] - 86s 674ms/step - loss: 0.3891 - accuracy: 0.8714 - val_loss: 2.9603 - val_accuracy: 0.4892\n",
      "Epoch 30/50\n",
      "127/127 [==============================] - 89s 698ms/step - loss: 0.3633 - accuracy: 0.8761 - val_loss: 2.6638 - val_accuracy: 0.4545\n",
      "Epoch 31/50\n",
      "127/127 [==============================] - 88s 693ms/step - loss: 0.3658 - accuracy: 0.8798 - val_loss: 1.6045 - val_accuracy: 0.4805\n",
      "Epoch 32/50\n",
      "127/127 [==============================] - 86s 674ms/step - loss: 0.3676 - accuracy: 0.8686 - val_loss: 2.9956 - val_accuracy: 0.4481\n",
      "Epoch 33/50\n",
      "127/127 [==============================] - 87s 689ms/step - loss: 0.3403 - accuracy: 0.8815 - val_loss: 2.3264 - val_accuracy: 0.4896\n",
      "Epoch 34/50\n",
      "127/127 [==============================] - 85s 669ms/step - loss: 0.3660 - accuracy: 0.8722 - val_loss: 2.1898 - val_accuracy: 0.4978\n",
      "Epoch 35/50\n",
      "127/127 [==============================] - 85s 666ms/step - loss: 0.3552 - accuracy: 0.8820 - val_loss: 2.7914 - val_accuracy: 0.4935\n",
      "Epoch 36/50\n",
      "127/127 [==============================] - 85s 668ms/step - loss: 0.3172 - accuracy: 0.8917 - val_loss: 2.4166 - val_accuracy: 0.4892\n",
      "Epoch 37/50\n",
      "127/127 [==============================] - 87s 688ms/step - loss: 0.2942 - accuracy: 0.8961 - val_loss: 3.0503 - val_accuracy: 0.5087\n",
      "Epoch 38/50\n",
      "127/127 [==============================] - 85s 668ms/step - loss: 0.3247 - accuracy: 0.8882 - val_loss: 2.8538 - val_accuracy: 0.4870\n",
      "Epoch 39/50\n",
      "127/127 [==============================] - 84s 661ms/step - loss: 0.3072 - accuracy: 0.8947 - val_loss: 3.5591 - val_accuracy: 0.4610\n",
      "Epoch 40/50\n",
      "127/127 [==============================] - 88s 692ms/step - loss: 0.3036 - accuracy: 0.8974 - val_loss: 2.9373 - val_accuracy: 0.5195\n",
      "Epoch 41/50\n",
      "127/127 [==============================] - 85s 667ms/step - loss: 0.3049 - accuracy: 0.9008 - val_loss: 4.3788 - val_accuracy: 0.4524\n",
      "Epoch 42/50\n",
      "127/127 [==============================] - 83s 656ms/step - loss: 0.2730 - accuracy: 0.9023 - val_loss: 4.8103 - val_accuracy: 0.4870\n",
      "Epoch 43/50\n",
      "127/127 [==============================] - 84s 660ms/step - loss: 0.2784 - accuracy: 0.9008 - val_loss: 4.0560 - val_accuracy: 0.4805\n",
      "Epoch 44/50\n",
      "127/127 [==============================] - 86s 676ms/step - loss: 0.2883 - accuracy: 0.8966 - val_loss: 2.6258 - val_accuracy: 0.4502\n",
      "Epoch 45/50\n",
      "127/127 [==============================] - 83s 657ms/step - loss: 0.2564 - accuracy: 0.9094 - val_loss: 3.6934 - val_accuracy: 0.4784\n",
      "Epoch 46/50\n",
      "127/127 [==============================] - 83s 650ms/step - loss: 0.2787 - accuracy: 0.9015 - val_loss: 4.8700 - val_accuracy: 0.4892\n",
      "Epoch 47/50\n",
      "127/127 [==============================] - 86s 677ms/step - loss: 0.2493 - accuracy: 0.9134 - val_loss: 2.9064 - val_accuracy: 0.4524\n",
      "Epoch 48/50\n",
      "127/127 [==============================] - 82s 648ms/step - loss: 0.2769 - accuracy: 0.9043 - val_loss: 4.4820 - val_accuracy: 0.5022\n",
      "Epoch 49/50\n",
      "127/127 [==============================] - 83s 654ms/step - loss: 0.2889 - accuracy: 0.9045 - val_loss: 3.1184 - val_accuracy: 0.4771\n",
      "Epoch 50/50\n",
      "127/127 [==============================] - 85s 671ms/step - loss: 0.2756 - accuracy: 0.9110 - val_loss: 3.0851 - val_accuracy: 0.4978\n"
     ]
    }
   ],
   "source": [
    "# Fit the Transfer Learning model to the data from the generators\n",
    "history = model.fit_generator(\n",
    "    train_generator,\n",
    "    epochs=num_epoch,\n",
    "    steps_per_epoch=num_train_samples//batch_size,\n",
    "    validation_data=validation_generator,\n",
    "    validation_steps=num_validate_samples//batch_size,\n",
    "    class_weight='auto',\n",
    "    shuffle=True)"
   ]
  },
  {
   "cell_type": "code",
   "execution_count": 16,
   "metadata": {},
   "outputs": [
    {
     "data": {
      "image/png": "[encoded data removed]",
      "text/plain": [
       "<Figure size 432x288 with 1 Axes>"
      ]
     },
     "metadata": {
      "needs_background": "light"
     },
     "output_type": "display_data"
    },
    {
     "data": {
      "text/plain": [
       "0"
      ]
     },
     "execution_count": 16,
     "metadata": {},
     "output_type": "execute_result"
    }
   ],
   "source": [
    "# Plot training and validation accuracy\n",
    "plot_accuracy(history)"
   ]
  },
  {
   "cell_type": "code",
   "execution_count": 17,
   "metadata": {},
   "outputs": [
    {
     "data": {
      "image/png": "[encoded data removed]",
      "text/plain": [
       "<Figure size 432x288 with 1 Axes>"
      ]
     },
     "metadata": {
      "needs_background": "light"
     },
     "output_type": "display_data"
    },
    {
     "data": {
      "text/plain": [
       "0"
      ]
     },
     "execution_count": 17,
     "metadata": {},
     "output_type": "execute_result"
    }
   ],
   "source": [
    "# Plot training and validation loss\n",
    "plot_loss(history)"
   ]
  },
  {
   "cell_type": "code",
   "execution_count": 18,
   "metadata": {},
   "outputs": [
    {
     "name": "stdout",
     "output_type": "stream",
     "text": [
      "loss: 6.883925437927246, accuracy: 0.42105263471603394\n"
     ]
    }
   ],
   "source": [
    "# Print test set accuracy and loss values\n",
    "scores = model.evaluate_generator(test_generator, num_test_samples/batch_size)\n",
    "print(\"loss: {}, accuracy: {}\".format(scores[0], scores[1]))"
   ]
  }
 ],
 "metadata": {
  "kernelspec": {
   "display_name": "Python 3",
   "language": "python",
   "name": "python3"
  },
  "language_info": {
   "codemirror_mode": {
    "name": "ipython",
    "version": 3
   },
   "file_extension": ".py",
   "mimetype": "text/x-python",
   "name": "python",
   "nbconvert_exporter": "python",
   "pygments_lexer": "ipython3",
   "version": "3.6.9"
  }
 },
 "nbformat": 4,
 "nbformat_minor": 2
}
